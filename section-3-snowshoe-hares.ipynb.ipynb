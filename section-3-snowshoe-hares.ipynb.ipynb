{
 "cells": [
  {
   "cell_type": "markdown",
   "id": "1fb2dd41-c888-4247-8f6b-35fc5643c3de",
   "metadata": {},
   "source": [
    "URL: https://portal.edirepository.org/nis/mapbrowse?packageid=knb-lter-bnz.55.22\n",
    "citation:\n",
    "    Kielland, K., F.S. Chapin, R.W. Ruess, and Bonanza Creek LTER. 2017. Snowshoe hare physical data in Bonanza Creek Experimental Forest: 1999-Present ver 22. Environmental Data Initiative. https://doi.org/10.6073/pasta/03dce4856d79b91557d8e6ce2cbcdc14 (Accessed 2025-10-17).\n",
    "Date of access: 10/17/2025\n",
    "\n",
    "These data were collected from 1999-2002, covering snowshoe hare densities and metadata in Alaska at a landscape-scale observations. Data were collected from 5 sites in the Tanana Valley. There is no publication associated with this data.\n"
   ]
  },
  {
   "cell_type": "markdown",
   "id": "145c073f-2582-4014-86c3-81a918650a10",
   "metadata": {
    "tags": []
   },
   "source": [
    "![image of a snowshoe hare](https://upload.wikimedia.org/wikipedia/commons/thumb/8/8a/SNOWSHOE_HARE_%28Lepus_americanus%29_%285-28-2015%29_quoddy_head%2C_washington_co%2C_maine_-01_%2818988734889%29.jpg/1089px-SNOWSHOE_HARE_%28Lepus_americanus%29_%285-28-2015%29_quoddy_head%2C_washington_co%2C_maine_-01_%2818988734889%29.jpg?20170313021652)"
   ]
  },
  {
   "cell_type": "markdown",
   "id": "584bfb6f-99ba-4973-ba41-2329da421b9a",
   "metadata": {},
   "source": [
    ")\tALAN SCHMIERER, Set 72157600401137773, ID 18988734889, Original title SNOWSHOE HARE (Lepus americanus) (5-28-2015) quoddy head, washington co, maine -01"
   ]
  },
  {
   "cell_type": "markdown",
   "id": "2dd2cfa4-9d72-4f31-b539-f4a647dc0d8c",
   "metadata": {},
   "source": [
    "# 3. Data loading and preliminary exploration"
   ]
  },
  {
   "cell_type": "code",
   "execution_count": 1,
   "id": "10116bb1-07c3-4f8f-a2bd-8bbb322f4254",
   "metadata": {
    "tags": []
   },
   "outputs": [],
   "source": [
    "import pandas as pd\n",
    "import numpy as np\n",
    "\n",
    "URL = \"https://pasta.lternet.edu/package/data/eml/knb-lter-bnz/55/22/f01f5d71be949b8c700b6ecd1c42c701\"\n",
    "hares = pd.read_csv(URL)"
   ]
  },
  {
   "cell_type": "code",
   "execution_count": 10,
   "id": "7a96c3c5-d8dd-4199-9938-5d93968e31ee",
   "metadata": {
    "tags": []
   },
   "outputs": [
    {
     "data": {
      "text/plain": [
       "<bound method DataFrame.info of             date      time    grid trap       l_ear r_ear  sex  age  weight  \\\n",
       "0     11/26/1998       NaN  bonrip   1A  414D096A08   NaN  NaN  NaN  1370.0   \n",
       "1     11/26/1998       NaN  bonrip   2C  414D320671   NaN    M  NaN  1430.0   \n",
       "2     11/26/1998       NaN  bonrip   2D  414D103E3A   NaN    M  NaN  1430.0   \n",
       "3     11/26/1998       NaN  bonrip   2E  414D262D43   NaN  NaN  NaN  1490.0   \n",
       "4     11/26/1998       NaN  bonrip   3B  414D2B4B58   NaN  NaN  NaN  1710.0   \n",
       "...          ...       ...     ...  ...         ...   ...  ...  ...     ...   \n",
       "3375    8/8/2002  18:00:00  bonrip  1b         1201  1202  NaN  NaN  1400.0   \n",
       "3376    8/8/2002   6:00:00  bonrip  4b         1201  1202  NaN  NaN     NaN   \n",
       "3377    8/7/2002       NaN  bonrip   4b        1217  1218  NaN  NaN  1000.0   \n",
       "3378    8/8/2002       NaN  bonrip   6d        1217  1218  NaN  NaN   990.0   \n",
       "3379    8/6/2002       NaN  bonrip   4b        1058  1060    M  NaN  1460.0   \n",
       "\n",
       "      hindft notes  b_key  session_id       study  \n",
       "0      160.0   NaN  917.0          51  Population  \n",
       "1        NaN   NaN  936.0          51  Population  \n",
       "2        NaN   NaN  921.0          51  Population  \n",
       "3      135.0   NaN  931.0          51  Population  \n",
       "4      150.0   NaN  933.0          51  Population  \n",
       "...      ...   ...    ...         ...         ...  \n",
       "3375     NaN   NaN   63.0          64  Population  \n",
       "3376     NaN   NaN   63.0          64  Population  \n",
       "3377   134.0   NaN   69.0          64  Population  \n",
       "3378     NaN   NaN   69.0          64  Population  \n",
       "3379   119.0   NaN   32.0          64  Population  \n",
       "\n",
       "[3380 rows x 14 columns]>"
      ]
     },
     "execution_count": 10,
     "metadata": {},
     "output_type": "execute_result"
    }
   ],
   "source": [
    "# Do some data exploration\n",
    "\n",
    "hares.info"
   ]
  },
  {
   "cell_type": "code",
   "execution_count": 16,
   "id": "7a280a59-9b0b-455f-8c1a-f6d781ebefe6",
   "metadata": {
    "tags": []
   },
   "outputs": [
    {
     "name": "stdout",
     "output_type": "stream",
     "text": [
      "<class 'pandas.core.frame.DataFrame'>\n",
      "RangeIndex: 3380 entries, 0 to 3379\n",
      "Data columns (total 14 columns):\n",
      " #   Column      Non-Null Count  Dtype  \n",
      "---  ------      --------------  -----  \n",
      " 0   date        3380 non-null   object \n",
      " 1   time        264 non-null    object \n",
      " 2   grid        3380 non-null   object \n",
      " 3   trap        3368 non-null   object \n",
      " 4   l_ear       3332 non-null   object \n",
      " 5   r_ear       3211 non-null   object \n",
      " 6   sex         3028 non-null   object \n",
      " 7   age         1269 non-null   object \n",
      " 8   weight      2845 non-null   float64\n",
      " 9   hindft      1633 non-null   float64\n",
      " 10  notes       243 non-null    object \n",
      " 11  b_key       3333 non-null   float64\n",
      " 12  session_id  3380 non-null   int64  \n",
      " 13  study       3217 non-null   object \n",
      "dtypes: float64(3), int64(1), object(10)\n",
      "memory usage: 369.8+ KB\n"
     ]
    }
   ],
   "source": [
    "hares.info()"
   ]
  },
  {
   "cell_type": "code",
   "execution_count": 19,
   "id": "0c3ae21b-7d4d-47d5-908c-1b2ca9bfa18f",
   "metadata": {
    "tags": []
   },
   "outputs": [
    {
     "name": "stdout",
     "output_type": "stream",
     "text": [
      "2365.0\n",
      "0.0\n",
      "160.0\n",
      "60.0\n"
     ]
    }
   ],
   "source": [
    "print(hares['weight'].max())\n",
    "print(hares['weight'].min())\n",
    "\n",
    "print(hares['hindft'].max())\n",
    "print(hares['hindft'].min())"
   ]
  },
  {
   "cell_type": "code",
   "execution_count": 24,
   "id": "0c19a965-9899-4948-a870-16ee4f188e7d",
   "metadata": {
    "tags": []
   },
   "outputs": [
    {
     "data": {
      "text/plain": [
       "array(['414D096A08', '414D320671', '414D103E3A', ..., '1827', '1825',\n",
       "       '1215'], dtype=object)"
      ]
     },
     "execution_count": 24,
     "metadata": {},
     "output_type": "execute_result"
    }
   ],
   "source": [
    "hares['l_ear'].unique()"
   ]
  },
  {
   "cell_type": "markdown",
   "id": "bbd45cc4-eebb-48a1-9888-f5f4356cfffe",
   "metadata": {},
   "source": [
    "# 4. Detecting messy values"
   ]
  },
  {
   "cell_type": "code",
   "execution_count": 55,
   "id": "433e82f1-4ee3-43b1-9cf4-aef9680ed488",
   "metadata": {
    "tags": []
   },
   "outputs": [
    {
     "data": {
      "text/plain": [
       "array([nan, 'M', 'F', '?', 'F?', 'M?', 'pf', 'm', 'f', 'f?', 'm?', 'f ',\n",
       "       'm '], dtype=object)"
      ]
     },
     "execution_count": 55,
     "metadata": {},
     "output_type": "execute_result"
    }
   ],
   "source": [
    "# Find unique observations in the sex column\n",
    "hares['sex'].unique()"
   ]
  },
  {
   "cell_type": "markdown",
   "id": "25bbef93-9b9b-4bcc-bbe8-891fc3d0eeaa",
   "metadata": {},
   "source": [
    "### Table of allowed values for sex\n",
    "\n",
    "| variable name | definition |\n",
    "| --- | --- |\n",
    "| m | male | \n",
    "| f | female |\n",
    "| m? | male unconfirmed |"
   ]
  },
  {
   "cell_type": "code",
   "execution_count": 54,
   "id": "f84e1dd5-f722-4d22-9da6-55645ae183a6",
   "metadata": {
    "tags": []
   },
   "outputs": [
    {
     "data": {
      "text/plain": [
       "sex\n",
       "?       40\n",
       "F     1161\n",
       "F?      10\n",
       "M      730\n",
       "M?       2\n",
       "f      556\n",
       "f        4\n",
       "f?       3\n",
       "m      515\n",
       "m        4\n",
       "m?       2\n",
       "pf       1\n",
       "dtype: int64"
      ]
     },
     "execution_count": 54,
     "metadata": {},
     "output_type": "execute_result"
    }
   ],
   "source": [
    "# Find unique value counts for the sex column\n",
    "hares.groupby('sex').size()"
   ]
  },
  {
   "cell_type": "code",
   "execution_count": 48,
   "id": "d0920fdb-3a1f-4234-a193-eeec78ec6433",
   "metadata": {
    "tags": []
   },
   "outputs": [],
   "source": [
    "# hares.value_counts?\n",
    "\n",
    "# dropna will remove rows with NA values\n",
    "# default is TRUE, meaning it will remove NA rows by default"
   ]
  },
  {
   "cell_type": "code",
   "execution_count": 53,
   "id": "9062e69e-ccdc-4fe4-96a6-d84908ad6cab",
   "metadata": {
    "tags": []
   },
   "outputs": [
    {
     "data": {
      "text/plain": [
       "sex\n",
       "F      1161\n",
       "M       730\n",
       "f       556\n",
       "m       515\n",
       "NaN     352\n",
       "?        40\n",
       "F?       10\n",
       "f         4\n",
       "m         4\n",
       "f?        3\n",
       "M?        2\n",
       "m?        2\n",
       "pf        1\n",
       "Name: count, dtype: int64"
      ]
     },
     "execution_count": 53,
     "metadata": {},
     "output_type": "execute_result"
    }
   ],
   "source": [
    "# Find unique value counts for the sex column without NAs\n",
    "\n",
    "hares['sex'].value_counts(dropna = False)"
   ]
  },
  {
   "cell_type": "code",
   "execution_count": 56,
   "id": "f4c59b83-e076-4ff0-b191-6696d1d94fb9",
   "metadata": {
    "tags": []
   },
   "outputs": [
    {
     "data": {
      "text/plain": [
       "12"
      ]
     },
     "execution_count": 56,
     "metadata": {},
     "output_type": "execute_result"
    }
   ],
   "source": [
    "hares['sex'].nunique()"
   ]
  },
  {
   "cell_type": "markdown",
   "id": "c11d9459-dab4-4684-8018-335f3cdb5fe7",
   "metadata": {},
   "source": [
    "The values in the `sex` column do not match the metadata; there are many repeated observations with codes not allowed according to the metadata. This could be caused by sampling/data entry differences, and lack of protocol."
   ]
  },
  {
   "cell_type": "markdown",
   "id": "15951d4c-afca-46de-aaef-565bcbe691dd",
   "metadata": {},
   "source": [
    "# 5. Brainstorm\n",
    "\n",
    "How to wrangle the `sex` column: change the observation names to match 'm', 'f', or 'm?'\n",
    "\n",
    "- m_, M?, M become m,\n",
    "- f_, F?, f?, F, pf become f\n",
    "- ? becomes NaN"
   ]
  },
  {
   "cell_type": "markdown",
   "id": "a1703097-3dfb-46f1-8998-79b52a29136f",
   "metadata": {},
   "source": [
    "# 6. Clean Values\n",
    "\n",
    "Use `numpy.select()` to create a new column of correct values"
   ]
  },
  {
   "cell_type": "code",
   "execution_count": 60,
   "id": "f29a1d32-e217-4a30-a884-15ec54c6b9b6",
   "metadata": {
    "tags": []
   },
   "outputs": [],
   "source": [
    "x = hares.sex\n",
    "condlist = (x.isin(['M', 'm', 'm ']), x.isin(['F', 'f', 'f ']))\n",
    "choicelist = ['female', 'male']\n",
    "sex_simple = np.select(condlist, choicelist, default = np.nan)"
   ]
  },
  {
   "cell_type": "code",
   "execution_count": 61,
   "id": "19c68086-ba17-4969-b589-cf2cb329d786",
   "metadata": {
    "tags": []
   },
   "outputs": [],
   "source": [
    "# np.select?"
   ]
  },
  {
   "cell_type": "code",
   "execution_count": 62,
   "id": "38cc838e-56cd-41b6-8830-58d549169ec3",
   "metadata": {
    "tags": []
   },
   "outputs": [],
   "source": [
    "hares['sex_simple'] = sex_simple"
   ]
  },
  {
   "cell_type": "code",
   "execution_count": 63,
   "id": "f0f19916-e47f-4bd4-b879-b5866d64c286",
   "metadata": {
    "tags": []
   },
   "outputs": [
    {
     "data": {
      "text/plain": [
       "sex_simple\n",
       "male      1721\n",
       "female    1249\n",
       "nan        410\n",
       "Name: count, dtype: int64"
      ]
     },
     "execution_count": 63,
     "metadata": {},
     "output_type": "execute_result"
    }
   ],
   "source": [
    "hares.sex_simple.value_counts()"
   ]
  },
  {
   "cell_type": "code",
   "execution_count": 64,
   "id": "c50ac846-96dc-4597-925c-010a1364058c",
   "metadata": {
    "tags": []
   },
   "outputs": [
    {
     "data": {
      "text/plain": [
       "sex_simple\n",
       "female    1349.935542\n",
       "male      1365.164792\n",
       "nan       1193.364055\n",
       "Name: weight, dtype: float64"
      ]
     },
     "execution_count": 64,
     "metadata": {},
     "output_type": "execute_result"
    }
   ],
   "source": [
    "# calculate weight \n",
    "hares.groupby(by = 'sex_simple')['weight'].mean()"
   ]
  },
  {
   "cell_type": "code",
   "execution_count": null,
   "id": "2f9755fc-5ed5-4bb0-b904-c156f75cf791",
   "metadata": {},
   "outputs": [],
   "source": []
  }
 ],
 "metadata": {
  "kernelspec": {
   "display_name": "EDS220",
   "language": "python",
   "name": "eds220-env"
  },
  "language_info": {
   "codemirror_mode": {
    "name": "ipython",
    "version": 3
   },
   "file_extension": ".py",
   "mimetype": "text/x-python",
   "name": "python",
   "nbconvert_exporter": "python",
   "pygments_lexer": "ipython3",
   "version": "3.11.4"
  }
 },
 "nbformat": 4,
 "nbformat_minor": 5
}
