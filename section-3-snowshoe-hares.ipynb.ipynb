{
 "cells": [
  {
   "cell_type": "markdown",
   "id": "1fb2dd41-c888-4247-8f6b-35fc5643c3de",
   "metadata": {},
   "source": [
    "URL: https://portal.edirepository.org/nis/mapbrowse?packageid=knb-lter-bnz.55.22\n",
    "citation:\n",
    "    Kielland, K., F.S. Chapin, R.W. Ruess, and Bonanza Creek LTER. 2017. Snowshoe hare physical data in Bonanza Creek Experimental Forest: 1999-Present ver 22. Environmental Data Initiative. https://doi.org/10.6073/pasta/03dce4856d79b91557d8e6ce2cbcdc14 (Accessed 2025-10-17).\n",
    "Date of access: 10/17/2025\n",
    "\n",
    "These data were collected from 1999-2002, covering snowshoe hare densities and metadata in Alaska at a landscape-scale observations. Data were collected from 5 sites in the Tanana Valley. There is no publication associated with this data.\n"
   ]
  },
  {
   "cell_type": "markdown",
   "id": "145c073f-2582-4014-86c3-81a918650a10",
   "metadata": {
    "tags": []
   },
   "source": [
    "![image of a snowshoe hare](https://upload.wikimedia.org/wikipedia/commons/thumb/8/8a/SNOWSHOE_HARE_%28Lepus_americanus%29_%285-28-2015%29_quoddy_head%2C_washington_co%2C_maine_-01_%2818988734889%29.jpg/1089px-SNOWSHOE_HARE_%28Lepus_americanus%29_%285-28-2015%29_quoddy_head%2C_washington_co%2C_maine_-01_%2818988734889%29.jpg?20170313021652)"
   ]
  },
  {
   "cell_type": "markdown",
   "id": "584bfb6f-99ba-4973-ba41-2329da421b9a",
   "metadata": {},
   "source": [
    ")\tALAN SCHMIERER, Set 72157600401137773, ID 18988734889, Original title SNOWSHOE HARE (Lepus americanus) (5-28-2015) quoddy head, washington co, maine -01"
   ]
  },
  {
   "cell_type": "code",
   "execution_count": null,
   "id": "712a64bf-96d6-4525-b5a5-8b84780655c2",
   "metadata": {},
   "outputs": [],
   "source": []
  }
 ],
 "metadata": {
  "kernelspec": {
   "display_name": "EDS220",
   "language": "python",
   "name": "eds220-env"
  },
  "language_info": {
   "codemirror_mode": {
    "name": "ipython",
    "version": 3
   },
   "file_extension": ".py",
   "mimetype": "text/x-python",
   "name": "python",
   "nbconvert_exporter": "python",
   "pygments_lexer": "ipython3",
   "version": "3.11.4"
  }
 },
 "nbformat": 4,
 "nbformat_minor": 5
}
