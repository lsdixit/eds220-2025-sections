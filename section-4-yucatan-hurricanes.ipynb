{
 "cells": [
  {
   "cell_type": "markdown",
   "id": "227618a1-9256-454a-a84e-39bc1eda3227",
   "metadata": {},
   "source": [
    "1. Archive Exploration\n",
    "These data describes hurricanes across Yucatan Peninsula, including data on hurricane category, track, name, and duration.\n",
    "\n",
    "Boose, E. and D. Foster. 2023. Ecological Impacts of Hurricanes Across the Yucatan Peninsula 1851-2000 ver 23. Environmental Data Initiative. https://doi.org/10.6073/pasta/f219113373913f2daf421732e28d3c38 (Accessed 2025-10-24).\n"
   ]
  },
  {
   "cell_type": "code",
   "execution_count": 1,
   "id": "a1f8e02a-f5c4-458e-b150-cfba145cf55f",
   "metadata": {
    "tags": []
   },
   "outputs": [],
   "source": [
    "# Import packages\n",
    "import pandas as pd\n",
    "import matplotlib.pyplot as plt"
   ]
  },
  {
   "cell_type": "code",
   "execution_count": 2,
   "id": "aa03b0d9-ff84-4ac8-b72a-d3dd63179966",
   "metadata": {
    "tags": []
   },
   "outputs": [
    {
     "data": {
      "text/html": [
       "<div>\n",
       "<style scoped>\n",
       "    .dataframe tbody tr th:only-of-type {\n",
       "        vertical-align: middle;\n",
       "    }\n",
       "\n",
       "    .dataframe tbody tr th {\n",
       "        vertical-align: top;\n",
       "    }\n",
       "\n",
       "    .dataframe thead th {\n",
       "        text-align: right;\n",
       "    }\n",
       "</style>\n",
       "<table border=\"1\" class=\"dataframe\">\n",
       "  <thead>\n",
       "    <tr style=\"text-align: right;\">\n",
       "      <th></th>\n",
       "      <th>code</th>\n",
       "      <th>start.date</th>\n",
       "      <th>end.date</th>\n",
       "      <th>number</th>\n",
       "      <th>name</th>\n",
       "      <th>ss</th>\n",
       "      <th>track</th>\n",
       "      <th>rf.max</th>\n",
       "    </tr>\n",
       "  </thead>\n",
       "  <tbody>\n",
       "    <tr>\n",
       "      <th>0</th>\n",
       "      <td>Y1852</td>\n",
       "      <td>1852-10-07</td>\n",
       "      <td>1852-10-08</td>\n",
       "      <td>5</td>\n",
       "      <td>NaN</td>\n",
       "      <td>2</td>\n",
       "      <td>O</td>\n",
       "      <td>F1</td>\n",
       "    </tr>\n",
       "    <tr>\n",
       "      <th>1</th>\n",
       "      <td>Y1857</td>\n",
       "      <td>1857-09-28</td>\n",
       "      <td>1857-09-28</td>\n",
       "      <td>4</td>\n",
       "      <td>NaN</td>\n",
       "      <td>2</td>\n",
       "      <td>N</td>\n",
       "      <td>F1</td>\n",
       "    </tr>\n",
       "    <tr>\n",
       "      <th>2</th>\n",
       "      <td>Y1861</td>\n",
       "      <td>1861-08-17</td>\n",
       "      <td>1861-08-17</td>\n",
       "      <td>2</td>\n",
       "      <td>NaN</td>\n",
       "      <td>1</td>\n",
       "      <td>O</td>\n",
       "      <td>Nd</td>\n",
       "    </tr>\n",
       "    <tr>\n",
       "      <th>3</th>\n",
       "      <td>Y1864</td>\n",
       "      <td>1864-08-31</td>\n",
       "      <td>1864-08-31</td>\n",
       "      <td>3</td>\n",
       "      <td>NaN</td>\n",
       "      <td>1</td>\n",
       "      <td>S</td>\n",
       "      <td>F1</td>\n",
       "    </tr>\n",
       "    <tr>\n",
       "      <th>4</th>\n",
       "      <td>Y1865</td>\n",
       "      <td>1865-09-11</td>\n",
       "      <td>1865-09-11</td>\n",
       "      <td>4</td>\n",
       "      <td>NaN</td>\n",
       "      <td>2</td>\n",
       "      <td>O</td>\n",
       "      <td>F1</td>\n",
       "    </tr>\n",
       "  </tbody>\n",
       "</table>\n",
       "</div>"
      ],
      "text/plain": [
       "    code  start.date    end.date  number name  ss track rf.max\n",
       "0  Y1852  1852-10-07  1852-10-08       5  NaN   2     O     F1\n",
       "1  Y1857  1857-09-28  1857-09-28       4  NaN   2     N     F1\n",
       "2  Y1861  1861-08-17  1861-08-17       2  NaN   1     O     Nd\n",
       "3  Y1864  1864-08-31  1864-08-31       3  NaN   1     S     F1\n",
       "4  Y1865  1865-09-11  1865-09-11       4  NaN   2     O     F1"
      ]
     },
     "execution_count": 2,
     "metadata": {},
     "output_type": "execute_result"
    }
   ],
   "source": [
    "# Read in data\n",
    "df = pd.read_csv(\"data/hf071-01-hurricanes.csv\")\n",
    "\n",
    "# Look at first few rows\n",
    "df.head()"
   ]
  },
  {
   "cell_type": "code",
   "execution_count": 3,
   "id": "7f12d74f-897a-4370-97d1-4076912f06d9",
   "metadata": {
    "tags": []
   },
   "outputs": [
    {
     "name": "stdout",
     "output_type": "stream",
     "text": [
      "<class 'pandas.core.frame.DataFrame'>\n",
      "RangeIndex: 105 entries, 0 to 104\n",
      "Data columns (total 8 columns):\n",
      " #   Column      Non-Null Count  Dtype \n",
      "---  ------      --------------  ----- \n",
      " 0   code        105 non-null    object\n",
      " 1   start.date  105 non-null    object\n",
      " 2   end.date    105 non-null    object\n",
      " 3   number      105 non-null    int64 \n",
      " 4   name        33 non-null     object\n",
      " 5   ss          105 non-null    int64 \n",
      " 6   track       105 non-null    object\n",
      " 7   rf.max      105 non-null    object\n",
      "dtypes: int64(2), object(6)\n",
      "memory usage: 6.7+ KB\n"
     ]
    }
   ],
   "source": [
    "df.info()"
   ]
  },
  {
   "cell_type": "markdown",
   "id": "2790ef17-2069-43ae-8cc3-6277f18f51f8",
   "metadata": {},
   "source": [
    "# 3. Brainstorm\n",
    "\n",
    "### In this session we want to answer the following question:\n",
    "\n",
    "How many hurricanes with Saffir-Simpson category 5 have been registered and what was their duration?\n",
    "\n",
    "- step 1: filter for category 5 and get a total count\n",
    "- step 2: change date columns to datetime\n",
    "- step 3: subtract dates for duration, new column\n"
   ]
  },
  {
   "cell_type": "markdown",
   "id": "89a3ad12-c074-47e3-a3e1-d0d3f74d15d8",
   "metadata": {},
   "source": [
    "# 4. Data wrangling"
   ]
  },
  {
   "cell_type": "code",
   "execution_count": 33,
   "id": "0d4dc1b7-baaf-4cf0-963e-3766197d3930",
   "metadata": {
    "tags": []
   },
   "outputs": [
    {
     "data": {
      "text/html": [
       "<div>\n",
       "<style scoped>\n",
       "    .dataframe tbody tr th:only-of-type {\n",
       "        vertical-align: middle;\n",
       "    }\n",
       "\n",
       "    .dataframe tbody tr th {\n",
       "        vertical-align: top;\n",
       "    }\n",
       "\n",
       "    .dataframe thead th {\n",
       "        text-align: right;\n",
       "    }\n",
       "</style>\n",
       "<table border=\"1\" class=\"dataframe\">\n",
       "  <thead>\n",
       "    <tr style=\"text-align: right;\">\n",
       "      <th></th>\n",
       "      <th>code</th>\n",
       "      <th>start.date</th>\n",
       "      <th>end.date</th>\n",
       "      <th>number</th>\n",
       "      <th>name</th>\n",
       "      <th>ss</th>\n",
       "      <th>track</th>\n",
       "      <th>rf.max</th>\n",
       "    </tr>\n",
       "  </thead>\n",
       "  <tbody>\n",
       "    <tr>\n",
       "      <th>76</th>\n",
       "      <td>Y1955b</td>\n",
       "      <td>1955-09-28 00:00:00</td>\n",
       "      <td>1955-09-28 00:00:00</td>\n",
       "      <td>10</td>\n",
       "      <td>Janet</td>\n",
       "      <td>5</td>\n",
       "      <td>N</td>\n",
       "      <td>F3</td>\n",
       "    </tr>\n",
       "    <tr>\n",
       "      <th>96</th>\n",
       "      <td>Y1980a</td>\n",
       "      <td>1980-08-07 00:00:00</td>\n",
       "      <td>1980-08-08 00:00:00</td>\n",
       "      <td>1</td>\n",
       "      <td>Allen</td>\n",
       "      <td>5</td>\n",
       "      <td>O</td>\n",
       "      <td>F3</td>\n",
       "    </tr>\n",
       "    <tr>\n",
       "      <th>98</th>\n",
       "      <td>Y1988</td>\n",
       "      <td>1988-09-14 00:00:00</td>\n",
       "      <td>1988-09-15 00:00:00</td>\n",
       "      <td>8</td>\n",
       "      <td>Gilbert</td>\n",
       "      <td>5</td>\n",
       "      <td>N</td>\n",
       "      <td>F3</td>\n",
       "    </tr>\n",
       "    <tr>\n",
       "      <th>103</th>\n",
       "      <td>Y1998</td>\n",
       "      <td>1998-10-27 00:00:00</td>\n",
       "      <td>1998-10-28 00:00:00</td>\n",
       "      <td>13</td>\n",
       "      <td>Mitch</td>\n",
       "      <td>5</td>\n",
       "      <td>S</td>\n",
       "      <td>F1</td>\n",
       "    </tr>\n",
       "  </tbody>\n",
       "</table>\n",
       "</div>"
      ],
      "text/plain": [
       "       code           start.date             end.date  number     name  ss  \\\n",
       "76   Y1955b  1955-09-28 00:00:00  1955-09-28 00:00:00      10    Janet   5   \n",
       "96   Y1980a  1980-08-07 00:00:00  1980-08-08 00:00:00       1    Allen   5   \n",
       "98    Y1988  1988-09-14 00:00:00  1988-09-15 00:00:00       8  Gilbert   5   \n",
       "103   Y1998  1998-10-27 00:00:00  1998-10-28 00:00:00      13    Mitch   5   \n",
       "\n",
       "    track rf.max  \n",
       "76      N     F3  \n",
       "96      O     F3  \n",
       "98      N     F3  \n",
       "103     S     F1  "
      ]
     },
     "execution_count": 33,
     "metadata": {},
     "output_type": "execute_result"
    }
   ],
   "source": [
    "# 1. filter for cat 5 hurricanes\n",
    "df_5 = df[df['ss'] == 5]\n",
    "df_5"
   ]
  },
  {
   "cell_type": "code",
   "execution_count": 34,
   "id": "b7ee0b10-ff3c-4ce9-a56c-c5637091aba0",
   "metadata": {
    "tags": []
   },
   "outputs": [
    {
     "data": {
      "text/plain": [
       "4"
      ]
     },
     "execution_count": 34,
     "metadata": {},
     "output_type": "execute_result"
    }
   ],
   "source": [
    "df_5['ss'].count()"
   ]
  },
  {
   "cell_type": "code",
   "execution_count": 35,
   "id": "5658dbe4-380f-433b-ad24-953c17815e52",
   "metadata": {
    "tags": []
   },
   "outputs": [],
   "source": [
    "df_5.loc[:,'start.date'] = pd.to_datetime(df_5['start.date'])\n",
    "df_5.loc[:,'end.date'] = pd.to_datetime(df_5['end.date'])"
   ]
  },
  {
   "cell_type": "code",
   "execution_count": 36,
   "id": "8c589838-328c-43fb-b7db-dc07e1c93889",
   "metadata": {
    "tags": []
   },
   "outputs": [
    {
     "data": {
      "text/plain": [
       "code          object\n",
       "start.date    object\n",
       "end.date      object\n",
       "number         int64\n",
       "name          object\n",
       "ss             int64\n",
       "track         object\n",
       "rf.max        object\n",
       "dtype: object"
      ]
     },
     "execution_count": 36,
     "metadata": {},
     "output_type": "execute_result"
    }
   ],
   "source": [
    "df_5.dtypes"
   ]
  },
  {
   "cell_type": "code",
   "execution_count": 37,
   "id": "d255f7a2-8eef-4ac1-abd7-4a9ee4b32df9",
   "metadata": {
    "tags": []
   },
   "outputs": [
    {
     "name": "stderr",
     "output_type": "stream",
     "text": [
      "/tmp/ipykernel_3288488/113695967.py:1: SettingWithCopyWarning: \n",
      "A value is trying to be set on a copy of a slice from a DataFrame.\n",
      "Try using .loc[row_indexer,col_indexer] = value instead\n",
      "\n",
      "See the caveats in the documentation: https://pandas.pydata.org/pandas-docs/stable/user_guide/indexing.html#returning-a-view-versus-a-copy\n",
      "  df_5.loc[:,'duration'] = df_5['end.date'] - df_5['start.date']\n"
     ]
    }
   ],
   "source": [
    "df_5.loc[:,'duration'] = df_5['end.date'] - df_5['start.date']"
   ]
  },
  {
   "cell_type": "code",
   "execution_count": 38,
   "id": "9f2d0d94-cf50-4cc1-8b41-8e18cbda109b",
   "metadata": {
    "tags": []
   },
   "outputs": [
    {
     "data": {
      "text/html": [
       "<div>\n",
       "<style scoped>\n",
       "    .dataframe tbody tr th:only-of-type {\n",
       "        vertical-align: middle;\n",
       "    }\n",
       "\n",
       "    .dataframe tbody tr th {\n",
       "        vertical-align: top;\n",
       "    }\n",
       "\n",
       "    .dataframe thead th {\n",
       "        text-align: right;\n",
       "    }\n",
       "</style>\n",
       "<table border=\"1\" class=\"dataframe\">\n",
       "  <thead>\n",
       "    <tr style=\"text-align: right;\">\n",
       "      <th></th>\n",
       "      <th>code</th>\n",
       "      <th>start.date</th>\n",
       "      <th>end.date</th>\n",
       "      <th>number</th>\n",
       "      <th>name</th>\n",
       "      <th>ss</th>\n",
       "      <th>track</th>\n",
       "      <th>rf.max</th>\n",
       "      <th>duration</th>\n",
       "    </tr>\n",
       "  </thead>\n",
       "  <tbody>\n",
       "    <tr>\n",
       "      <th>76</th>\n",
       "      <td>Y1955b</td>\n",
       "      <td>1955-09-28 00:00:00</td>\n",
       "      <td>1955-09-28 00:00:00</td>\n",
       "      <td>10</td>\n",
       "      <td>Janet</td>\n",
       "      <td>5</td>\n",
       "      <td>N</td>\n",
       "      <td>F3</td>\n",
       "      <td>0 days 00:00:00</td>\n",
       "    </tr>\n",
       "    <tr>\n",
       "      <th>96</th>\n",
       "      <td>Y1980a</td>\n",
       "      <td>1980-08-07 00:00:00</td>\n",
       "      <td>1980-08-08 00:00:00</td>\n",
       "      <td>1</td>\n",
       "      <td>Allen</td>\n",
       "      <td>5</td>\n",
       "      <td>O</td>\n",
       "      <td>F3</td>\n",
       "      <td>1 days 00:00:00</td>\n",
       "    </tr>\n",
       "    <tr>\n",
       "      <th>98</th>\n",
       "      <td>Y1988</td>\n",
       "      <td>1988-09-14 00:00:00</td>\n",
       "      <td>1988-09-15 00:00:00</td>\n",
       "      <td>8</td>\n",
       "      <td>Gilbert</td>\n",
       "      <td>5</td>\n",
       "      <td>N</td>\n",
       "      <td>F3</td>\n",
       "      <td>1 days 00:00:00</td>\n",
       "    </tr>\n",
       "    <tr>\n",
       "      <th>103</th>\n",
       "      <td>Y1998</td>\n",
       "      <td>1998-10-27 00:00:00</td>\n",
       "      <td>1998-10-28 00:00:00</td>\n",
       "      <td>13</td>\n",
       "      <td>Mitch</td>\n",
       "      <td>5</td>\n",
       "      <td>S</td>\n",
       "      <td>F1</td>\n",
       "      <td>1 days 00:00:00</td>\n",
       "    </tr>\n",
       "  </tbody>\n",
       "</table>\n",
       "</div>"
      ],
      "text/plain": [
       "       code           start.date             end.date  number     name  ss  \\\n",
       "76   Y1955b  1955-09-28 00:00:00  1955-09-28 00:00:00      10    Janet   5   \n",
       "96   Y1980a  1980-08-07 00:00:00  1980-08-08 00:00:00       1    Allen   5   \n",
       "98    Y1988  1988-09-14 00:00:00  1988-09-15 00:00:00       8  Gilbert   5   \n",
       "103   Y1998  1998-10-27 00:00:00  1998-10-28 00:00:00      13    Mitch   5   \n",
       "\n",
       "    track rf.max         duration  \n",
       "76      N     F3  0 days 00:00:00  \n",
       "96      O     F3  1 days 00:00:00  \n",
       "98      N     F3  1 days 00:00:00  \n",
       "103     S     F1  1 days 00:00:00  "
      ]
     },
     "execution_count": 38,
     "metadata": {},
     "output_type": "execute_result"
    }
   ],
   "source": [
    "df_5"
   ]
  },
  {
   "cell_type": "code",
   "execution_count": 40,
   "id": "57df6ff2-16a4-4cb9-8cf1-4dc7032e6e16",
   "metadata": {
    "tags": []
   },
   "outputs": [
    {
     "data": {
      "text/plain": [
       "<Axes: xlabel='start.date', ylabel='ss'>"
      ]
     },
     "execution_count": 40,
     "metadata": {},
     "output_type": "execute_result"
    },
    {
     "data": {
      "image/png": "[encoded data removed]",
      "text/plain": [
       "<Figure size 640x480 with 1 Axes>"
      ]
     },
     "metadata": {},
     "output_type": "display_data"
    }
   ],
   "source": [
    "df.plot(kind = 'scatter',\n",
    "       x = 'start.date',\n",
    "       y = 'ss')"
   ]
  },
  {
   "cell_type": "code",
   "execution_count": 44,
   "id": "2af06969-1ff1-4fc5-8cd9-07f7af7b1d58",
   "metadata": {
    "tags": []
   },
   "outputs": [
    {
     "data": {
      "text/plain": [
       "Text(0.5, 1.0, 'Hurricane frequency over time in Yucatan Peninsula')"
      ]
     },
     "execution_count": 44,
     "metadata": {},
     "output_type": "execute_result"
    },
    {
     "data": {
      "image/png": "[encoded data removed]",
      "text/plain": [
       "<Figure size 640x480 with 1 Axes>"
      ]
     },
     "metadata": {},
     "output_type": "display_data"
    }
   ],
   "source": [
    "df.loc[:,'start.date'] = pd.to_datetime(df['start.date'])\n",
    "df.loc[:,'end.date'] = pd.to_datetime(df['end.date'])\n",
    "\n",
    "plt.scatter('start.date', 'ss', data = df)\n",
    "\n",
    "plt.yticks([1, 2, 3, 4, 5])\n",
    "plt.xlabel(\"Year\")\n",
    "plt.ylabel(\"Hurricane Category\")\n",
    "plt.title(\"Hurricane frequency over time in Yucatan Peninsula\")"
   ]
  },
  {
   "cell_type": "markdown",
   "id": "7925172d-60cb-4fe4-bb95-cb5685ef251b",
   "metadata": {},
   "source": [
    "The intensity of hurricanes has increased in frequency since the 1950s, with frequency of hurricanes at category 1, 2, and 3 staying around the same. Overall hurricane frequency has increased over time since the 1950s."
   ]
  },
  {
   "cell_type": "code",
   "execution_count": null,
   "id": "c8c95baa-9bb4-43a2-9773-f1cbd44377cb",
   "metadata": {},
   "outputs": [],
   "source": []
  }
 ],
 "metadata": {
  "kernelspec": {
   "display_name": "EDS220",
   "language": "python",
   "name": "eds220-env"
  },
  "language_info": {
   "codemirror_mode": {
    "name": "ipython",
    "version": 3
   },
   "file_extension": ".py",
   "mimetype": "text/x-python",
   "name": "python",
   "nbconvert_exporter": "python",
   "pygments_lexer": "ipython3",
   "version": "3.11.4"
  }
 },
 "nbformat": 4,
 "nbformat_minor": 5
}
